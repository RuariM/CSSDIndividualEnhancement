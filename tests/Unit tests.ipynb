{
 "cells": [
  {
   "cell_type": "code",
   "execution_count": 25,
   "metadata": {},
   "outputs": [],
   "source": [
    "#first get webdriver, chromedriver and time\n",
    "import time\n",
    "from selenium import webdriver #pip install selenium\n",
    "from webdriver_manager.chrome import ChromeDriverManager #pip intall webdriver-manager"
   ]
  },
  {
   "cell_type": "code",
   "execution_count": 26,
   "metadata": {},
   "outputs": [],
   "source": [
    "#customer login function\n",
    "def customer_login():\n",
    "    #direct driver to site\n",
    "    driver.get('http://localhost/CSSDProjectExtention/')\n",
    "    time.sleep(2) \n",
    "    #select login\n",
    "    login = driver.find_element_by_link_text(\"LOG IN\")\n",
    "    login.click()\n",
    "    time.sleep(2) \n",
    "    username = driver.find_element_by_name('username')\n",
    "    username.send_keys(\"123\")\n",
    "    password = driver.find_element_by_name('password')\n",
    "    password.send_keys(\"123\")\n",
    "    time.sleep(1)\n",
    "    password.submit()\n",
    "    #give a second to login\n",
    "    time.sleep(1)"
   ]
  },
  {
   "cell_type": "code",
   "execution_count": 27,
   "metadata": {},
   "outputs": [],
   "source": [
    "#admin login function\n",
    "def admin_login():\n",
    "    #direct driver to site\n",
    "    driver.get('http://localhost/CSSDProjectExtention/')\n",
    "    time.sleep(2)\n",
    "    #select login\n",
    "    login = driver.find_element_by_link_text(\"LOG IN\")\n",
    "    login.click()\n",
    "    time.sleep(2) # Let the user actually see something!\n",
    "    username = driver.find_element_by_name('username')\n",
    "    username.send_keys(\"admin\")\n",
    "    password = driver.find_element_by_name('password')\n",
    "    password.send_keys(\"admin\")\n",
    "    time.sleep(1)\n",
    "    password.submit()\n",
    "    #give a second to login\n",
    "    time.sleep(1)"
   ]
  },
  {
   "cell_type": "markdown",
   "metadata": {},
   "source": [
    "# Create purchase order"
   ]
  },
  {
   "cell_type": "code",
   "execution_count": 28,
   "metadata": {},
   "outputs": [
    {
     "name": "stderr",
     "output_type": "stream",
     "text": [
      "[WDM] - ====== WebDriver manager ======\n",
      "[WDM] - Current google-chrome version is 89.0.4389\n",
      "[WDM] - Get LATEST driver version for 89.0.4389\n",
      "[WDM] - Driver [C:\\Users\\Ruari\\.wdm\\drivers\\chromedriver\\win32\\89.0.4389.23\\chromedriver.exe] found in cache\n"
     ]
    },
    {
     "name": "stdout",
     "output_type": "stream",
     "text": [
      "\n",
      "\n",
      "Test passed\n",
      "Expected_1: £120\n",
      "Actual_1: £120\n",
      "Expected_2: Your order request has been submitted. We aim to respond within 24 hours. Check the progress on your dashboard.\n",
      "Actual_2: Your order request has been submitted. We aim to respond within 24 hours. Check the progress on your dashboard.\n"
     ]
    }
   ],
   "source": [
    "from selenium.webdriver.common.action_chains import ActionChains\n",
    "from selenium.webdriver.common.keys import Keys\n",
    "driver = webdriver.Chrome(ChromeDriverManager().install())\n",
    " #direct driver to site\n",
    "driver.set_window_size(1500, 1000)\n",
    "customer_login()\n",
    "\n",
    "order = driver.find_element_by_link_text(\"ORDER ITEMS\")\n",
    "order.click()\n",
    "item1 = driver.find_element_by_name('0')\n",
    "item1.send_keys(\"2.0\")\n",
    "item2 = driver.find_element_by_name('3')\n",
    "item2.send_keys(\"1.0\")\n",
    "address = driver.find_element_by_name('address')\n",
    "address.send_keys(\"1 test road\")\n",
    "location = driver.find_element_by_name('location')\n",
    "location.click()\n",
    "location.send_keys(Keys.DOWN,Keys.RETURN)\n",
    "\n",
    "#js total calculation\n",
    "actual_1 = driver.find_element_by_class_name('total').text\n",
    "expected_1 = \"£120\"\n",
    "\n",
    "submit = driver.find_element_by_class_name('btn-success')\n",
    "submit.click()\n",
    "#submit result\n",
    "actual_2 = driver.find_element_by_class_name('result').text\n",
    "expected_2 = \"Your order request has been submitted. We aim to respond within 24 hours. Check the progress on your dashboard.\"\n",
    "\n",
    "if(actual_1 == expected_1 and actual_2 == expected_2):\n",
    "    print(\"Test passed\")\n",
    "else:\n",
    "    print(\"Test failed\")\n",
    "print(\"Expected_1: \"+ expected_1)\n",
    "print(\"Actual_1: \"+ actual_1)\n",
    "print(\"Expected_2: \"+ expected_2)\n",
    "print(\"Actual_2: \"+ actual_2)\n",
    "driver.quit()"
   ]
  },
  {
   "cell_type": "markdown",
   "metadata": {},
   "source": [
    "# Delete purchase order"
   ]
  },
  {
   "cell_type": "code",
   "execution_count": 31,
   "metadata": {},
   "outputs": [
    {
     "name": "stderr",
     "output_type": "stream",
     "text": [
      "[WDM] - ====== WebDriver manager ======\n",
      "[WDM] - Current google-chrome version is 89.0.4389\n",
      "[WDM] - Get LATEST driver version for 89.0.4389\n",
      "[WDM] - Driver [C:\\Users\\Ruari\\.wdm\\drivers\\chromedriver\\win32\\89.0.4389.23\\chromedriver.exe] found in cache\n"
     ]
    },
    {
     "name": "stdout",
     "output_type": "stream",
     "text": [
      "\n",
      "\n",
      "Test passed\n",
      "Expected: Your order request has been successfully cancelled.\n",
      "Actual: Your order request has been successfully cancelled.\n"
     ]
    }
   ],
   "source": [
    "#the prerequisite for this test is that the top order has not been responded to\n",
    "driver = webdriver.Chrome(ChromeDriverManager().install())\n",
    " #direct driver to site\n",
    "driver.set_window_size(1500, 1000)\n",
    "customer_login()\n",
    "cancel = driver.find_element_by_name('cancel')\n",
    "cancel.click()\n",
    "expected = \"Your order request has been successfully cancelled.\"\n",
    "actual = driver.find_element_by_class_name('result').text\n",
    "if(actual == expected):\n",
    "    print(\"Test passed\")\n",
    "else:\n",
    "    print(\"Test failed\")\n",
    "print(\"Expected: \"+ expected)\n",
    "print(\"Actual: \"+ actual)\n",
    "driver.quit()"
   ]
  },
  {
   "cell_type": "markdown",
   "metadata": {},
   "source": [
    "# Respond to order"
   ]
  },
  {
   "cell_type": "code",
   "execution_count": 32,
   "metadata": {},
   "outputs": [
    {
     "name": "stderr",
     "output_type": "stream",
     "text": [
      "[WDM] - ====== WebDriver manager ======\n",
      "[WDM] - Current google-chrome version is 89.0.4389\n",
      "[WDM] - Get LATEST driver version for 89.0.4389\n",
      "[WDM] - Driver [C:\\Users\\Ruari\\.wdm\\drivers\\chromedriver\\win32\\89.0.4389.23\\chromedriver.exe] found in cache\n"
     ]
    },
    {
     "name": "stdout",
     "output_type": "stream",
     "text": [
      "\n",
      "\n",
      "Test passed\n",
      "Expected: Order Accepted\n",
      "Actual: Order Accepted\n"
     ]
    }
   ],
   "source": [
    "#the prerequisite for this test is that there his an active order request\n",
    "driver = webdriver.Chrome(ChromeDriverManager().install())\n",
    " #direct driver to site\n",
    "driver.set_window_size(1500, 1000)\n",
    "admin_login()\n",
    "view = driver.find_element_by_name('viewOrder')\n",
    "view.click()\n",
    "#wait to load next page\n",
    "time.sleep(1)\n",
    "submit = driver.find_element_by_name('submit')\n",
    "submit.click()\n",
    "time.sleep(1)\n",
    "expected = \"Order Accepted\"\n",
    "actual = driver.find_element_by_name('orderStatus').text\n",
    "if(actual == expected):\n",
    "    print(\"Test passed\")\n",
    "else:\n",
    "    print(\"Test failed\")\n",
    "print(\"Expected: \"+ expected)\n",
    "print(\"Actual: \"+ actual)\n",
    "driver.quit()"
   ]
  },
  {
   "cell_type": "markdown",
   "metadata": {},
   "source": [
    "# Amend purchase order"
   ]
  },
  {
   "cell_type": "code",
   "execution_count": 33,
   "metadata": {},
   "outputs": [
    {
     "name": "stderr",
     "output_type": "stream",
     "text": [
      "[WDM] - ====== WebDriver manager ======\n",
      "[WDM] - Current google-chrome version is 89.0.4389\n",
      "[WDM] - Get LATEST driver version for 89.0.4389\n",
      "[WDM] - Driver [C:\\Users\\Ruari\\.wdm\\drivers\\chromedriver\\win32\\89.0.4389.23\\chromedriver.exe] found in cache\n"
     ]
    },
    {
     "name": "stdout",
     "output_type": "stream",
     "text": [
      "\n",
      "\n",
      "Test passed\n",
      "Expected: Item removed from order.\n",
      "Actual: Item removed from order.\n"
     ]
    }
   ],
   "source": [
    "driver = webdriver.Chrome(ChromeDriverManager().install())\n",
    " #direct driver to site\n",
    "driver.set_window_size(1500, 1000)\n",
    "admin_login()\n",
    "view = driver.find_element_by_name('viewOrder')\n",
    "view.click()\n",
    "#wait to load next page\n",
    "time.sleep(1)\n",
    "remove = driver.find_element_by_name('remove')\n",
    "remove.click()\n",
    "expected = 'Item removed from order.'\n",
    "actual = driver.find_element_by_class_name('result').text\n",
    "if(actual == expected):\n",
    "    print(\"Test passed\")\n",
    "else:\n",
    "    print(\"Test failed\")\n",
    "print(\"Expected: \"+ expected)\n",
    "print(\"Actual: \"+ actual)\n",
    "driver.quit()"
   ]
  },
  {
   "cell_type": "markdown",
   "metadata": {},
   "source": []
  },
  {
   "cell_type": "code",
   "execution_count": null,
   "metadata": {},
   "outputs": [],
   "source": []
  }
 ],
 "metadata": {
  "kernelspec": {
   "display_name": "Python 3",
   "language": "python",
   "name": "python3"
  },
  "language_info": {
   "codemirror_mode": {
    "name": "ipython",
    "version": 3
   },
   "file_extension": ".py",
   "mimetype": "text/x-python",
   "name": "python",
   "nbconvert_exporter": "python",
   "pygments_lexer": "ipython3",
   "version": "3.8.5"
  }
 },
 "nbformat": 4,
 "nbformat_minor": 4
}
